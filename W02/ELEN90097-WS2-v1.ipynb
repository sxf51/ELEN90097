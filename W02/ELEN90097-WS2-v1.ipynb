{
 "cells": [
  {
   "cell_type": "markdown",
   "id": "96aee46f-6c75-4761-b0c0-ea4ea030af6d",
   "metadata": {},
   "source": [
    "# _ELEN90097 Workshop 2 – Modelling and Analysis for AI_\n",
    "This workshop is allocated 3 weeks. \n",
    "\n",
    "## Topics Covered \n",
    "This workshop will cover the fundamentals of data types/structures and algorithms with an emphasis on recursion and dynamic programming. \n",
    "* Data types and structures\n",
    "    * Sets\n",
    "    * Stacks, queues\n",
    "    * Graphs, trees\n",
    "* Algorithms\n",
    "    * Recursion, dynamic programming\n",
    "    * Sorting, search"
   ]
  },
  {
   "cell_type": "markdown",
   "id": "9ff39bf4-0812-49f0-b801-f5ca173337d9",
   "metadata": {},
   "source": [
    "## Workflow and Assessment \n",
    "\n",
    "This subject follows a problem- and project-oriented approach. This learning workflow focuses on solving practical (engineering) problems, which motivates acquiring theoretical (background) knowledge.\n",
    "\n",
    "### Objectives \n",
    "* Use these problems as a motivation to learn the fundamentals covered in lectures.\n",
    "* Learn how to formulate and solve problems in practice.\n",
    "* Familiarise yourself with practical software tools.\n",
    "* Connect theoretical and practical knowledge by doing it yourself.\n",
    "  \n",
    "The goal is to gain hands-on experience and learn by doing! Understand how theoretical knowledge discussed in lectures relates to practice. Develop motivation for gaining further theoretical and practical knowledge beyond the subject material.\n",
    "\n",
    "> __Self-learning__ is one of the most important skills you should acquire as a student. Today, self-learning is much easier than it used to be thanks to many online resources.\n",
    "\n",
    "### Assessment Process \n",
    "\n",
    "1. Follow the procedures described below, perform the given tasks, and answer the workshop questions __in this Python/Jupyter notebook! The resulting notebook will be your Workshop Report!__\n",
    "2. Submit the workshop report at the announced deadline\n",
    "3. Demonstrators will conduct a brief oral quiz on your submitted report in the subsequent weeks.\n",
    "4. Your workshop marks will be based on the report you will submit and oral quiz results (with a heavy weight on the oral component).\n",
    "\n",
    "\n",
    "> __The goal is to learn__, NOT blindly follow the procedures in the fastest possible way! __Do not simply copy-paste answers (from the Internet, friends, etc.). You can and should use all available resources but only to improve your understanding. If you copy-paste, you may perform poorly on the oral quiz!__\n",
    "\n",
    "### Notes\n",
    "\n",
    "* Use the table of contents feature of Jupyter Notebook for your convenience, see View menu above, Table of Contents. You can also turn on section numbers there if you wish.\n",
    "* Similarly, you can turn on \"show line numbers\" in the same menu."
   ]
  },
  {
   "attachments": {},
   "cell_type": "markdown",
   "id": "9711913b-8632-4d19-94cb-8db96882eb7f",
   "metadata": {},
   "source": [
    "# Data Types and Structures\n",
    "\n",
    "A data structure is a data organization and storage format on a computer. As you can imagine there are many ways of organising and storing data. Therefore, different programming languages approach this in different ways. Usually, high-level programming languages like Python provide many convenient *built-in* data structures, whereas low-level system languages like C only provide basic data types. In both cases, external libraries such as [Numpy](https://numpy.org) provide additional support for advanced data structures (e.g. vectors and matrices in the case of Numpy).\n",
    "\n",
    "In this subject, we will focus on **Python** which famously adopts a [``batteries included\" philosophy](https://peps.python.org/pep-0206/). This does *not* mean Python has the best data structures ever. It just means we want consistency over our AI subjects and Python is the current popular language in AI/ML, and a comparative study of data structures of languages is beyond our scope.\n",
    "\n",
    "### Python Data Types, Structures, and Libraries\n",
    "\n",
    "Python has a lot of built-in [datatypes](https://docs.python.org/3/library/datatypes.html). You don't need to know them all and you can learn about them as you need. There are many tutorials online on this topic such as [this one](https://www.w3schools.com/python/python_datatypes.asp).\n",
    "\n",
    "In addition to built-in data types, there are many respected libraries in Python providing advanced data structures such as [Numpy](https://numpy.org) (vectors, matrices, Matlab-like functionality), [NetworkX](https://networkx.org) (data structures for graphs), etc.\n",
    "\n",
    "### Next Step: a selective tour\n",
    "\n",
    "*You should already know about the basics of Python built-in basic data types such as lists, strings, and dictionaries.* This workshop is not about learning Python basics and we don't have time to cover all data structures, either. Therefore, we will go over a few interesting, engineering-relevant data types and structures with selected examples and exercises."
   ]
  },
  {
   "cell_type": "markdown",
   "id": "45070170-c2cf-4046-8e90-99ed78fdd9c9",
   "metadata": {},
   "source": [
    "## Sets in Python\n",
    "\n",
    "A [set](https://www.w3schools.com/python/python_sets.asp) in Python is an unordered collection data type that is iterable and has no duplicate elements. This matches quite perfectly with the mathematical definition we know since primary school. There are many nice tutorials on the topic, see for example, [this one](https://www.geeksforgeeks.org/sets-in-python/) or [this](https://www.analyticsvidhya.com/blog/2021/07/an-intuitive-and-easy-guide-to-python-set-must-for-becoming-data-science-professional/) or [these exercises](https://www.w3resource.com/python-exercises/sets/).\n",
    "\n",
    "Let's play with Python sets a bit."
   ]
  },
  {
   "cell_type": "code",
   "execution_count": 1,
   "id": "9f8caf60-668e-4cfd-9cde-0dce1585ea7a",
   "metadata": {},
   "outputs": [],
   "source": [
    "import numpy as np\n",
    "import matplotlib.pyplot as plt\n",
    "%matplotlib inline"
   ]
  },
  {
   "cell_type": "code",
   "execution_count": 2,
   "id": "c861afd8-97a9-43bc-91dd-77eb99ca9889",
   "metadata": {},
   "outputs": [
    {
     "name": "stdout",
     "output_type": "stream",
     "text": [
      "<class 'set'>\n",
      "{'Geeks', 'for'}\n",
      "2\n"
     ]
    }
   ],
   "source": [
    "myset = {\"Geeks\", \"for\", \"Geeks\"}\n",
    "print(type(myset))  # type of variable\n",
    "print(myset)        # note no duplicates allowed!\n",
    "print(len(myset))   # cardinality of the set"
   ]
  },
  {
   "cell_type": "markdown",
   "id": "c13afcc7-56a9-489c-a6bb-f2d5a956d12b",
   "metadata": {},
   "source": [
    "## Question: Basic Set Operations in Python\n",
    "\n",
    "We are given the sets $𝐴 = \\{2, 3, 4, 5, 6\\}$, $𝐵 = \\{4, 5, 6, 7, 8\\}$, and $𝐶 = \\{3, 6, 8\\}$. \n",
    "\n",
    "1. Define these sets in Python.\n",
    "2. Find $A \\cup B$, $A \\cap B$, $A \\setminus B$, and cardinalities of these.\n",
    "3. Try a few of the basic [set methods](https://www.w3schools.com/python/python_sets_methods.asp) but don't lose to much time on this.\n",
    "4. \\[*Optional*\\] If you wish you can visualize these using the nice [Matplotlib-venn](https://github.com/konstantint/matplotlib-venn) library. But first, you need to install it. ```!pip install matplotlib-venn```"
   ]
  },
  {
   "cell_type": "markdown",
   "id": "2a16e1b0-882f-472b-ad3d-15b8ee2263cf",
   "metadata": {},
   "source": [
    "**Answer as text here**"
   ]
  },
  {
   "cell_type": "code",
   "execution_count": null,
   "id": "47cdebfa-d4ef-48e5-937d-6e5574a417bb",
   "metadata": {},
   "outputs": [
    {
     "name": "stdout",
     "output_type": "stream",
     "text": [
      "intersection:  {4, 5, 6}\n",
      "union:  {2, 3, 4, 5, 6, 7, 8}\n",
      "difference:  {2, 3}\n"
     ]
    }
   ],
   "source": [
    "''' Answer as code here '''\n",
    "import matplotlib\n",
    "A = set({2,3,4,5,6})\n",
    "B = set({4,5,6,7,8})\n",
    "C = set({3, 6, 8})\n",
    "print(\"intersection: \",A.intersection(B))\n",
    "print(\"union: \",A.union(B))\n",
    "print(\"difference: \",A.difference(B))"
   ]
  },
  {
   "cell_type": "code",
   "execution_count": 63,
   "id": "3175aa08",
   "metadata": {},
   "outputs": [
    {
     "data": {
      "image/png": "[encoded data removed]",
      "text/plain": [
       "<Figure size 640x480 with 1 Axes>"
      ]
     },
     "metadata": {},
     "output_type": "display_data"
    }
   ],
   "source": [
    "import matplotlib_venn\n",
    "\n",
    "v = matplotlib_venn.venn3([A, B, C], set_labels=[\"A\", \"B\", \"C\"])\n",
    "\n",
    "v.get_label_by_id(\"100\").set_text(', '.join(str(item) for item in A.difference(B).difference(C)))\n",
    "v.get_label_by_id('010').set_text(', '.join(str(item) for item in B.difference(A).difference(C)))\n",
    "v.get_label_by_id('001').set_text(', '.join(str(item) for item in C.difference(A).difference(B)))\n",
    "v.get_label_by_id('110').set_text(', '.join(str(item) for item in A.intersection(B).difference(C)))\n",
    "v.get_label_by_id('011').set_text(', '.join(str(item) for item in B.intersection(C).difference(A)))\n",
    "v.get_label_by_id('101').set_text(', '.join(str(item) for item in A.intersection(C).difference(B)))\n",
    "v.get_label_by_id('111').set_text(', '.join(str(item) for item in A.intersection(B).intersection(C)))\n"
   ]
  },
  {
   "attachments": {},
   "cell_type": "markdown",
   "id": "6c19dffb-d42e-4b73-92f1-6ad29e563b92",
   "metadata": {},
   "source": [
    "## Stacks and Queues in Python\n",
    "\n",
    "<img src=\"./img/stack.png\" alt=\"Stack operations\" style=\"width:300px;margin: auto\"/>\n",
    "\n",
    "**Stack** is an old datatype, that goes back to the 1940s. In addition to software, stacks are implemented at the hardware level (CPU, memory, controllers) as a means of allocating and accessing memory. \n",
    "\n",
    "[This is a nice tutorial on stacks](https://www.geeksforgeeks.org/stack-in-python/) in Python. Note that you can implement them in 3 different ways! For the following exercise, your choice does not matter. You can use a list or [collections.deque](https://docs.python.org/3/library/collections.html#deque-objects)\n",
    "\n",
    "<img src=\"./img/queue.png\" alt=\"Queue\" style=\"width:250px;margin: auto\"/>\n",
    "\n",
    "A **queue** is an ordered collection of items. Queues are widely used in engineering and IT and there is the entire mathematical field of *queueing theory* which studies queues and their properties.\n",
    "\n",
    "As in the case of stacks, there are multiple options for [implementing queues in Python](https://realpython.com/queue-in-python/#implementing-queues-in-python). However, there is a nice [queue class already built in](https://docs.python.org/3/library/queue.html).\n"
   ]
  },
  {
   "cell_type": "markdown",
   "id": "e83ac79f-531f-4fe8-93d9-cc5d5f872638",
   "metadata": {},
   "source": [
    "## Question: Balanced Parentheses using Stack Data Type\n",
    "\n",
    "Solve the [balanced parenthesis checker](https://runestone.academy/ns/books/published/pythonds/BasicDS/SimpleBalancedParentheses.html) problem discussed in the lectures. The goal is to write an algorithm that will read a string of parentheses from left to right and decide whether the symbols are balanced. Specifically and appropriately, we will use the stack data type for this purpose.\n",
    "\n",
    "1. Implement a basic balanced parenthesis \"(\" checker using **stack** in Python implemented either using built-in list or collections.deque data types.\n",
    "2. Extend your checker to all types of parentheses \"(\", \"[\", \"{\".\n",
    "\n",
    "*Hint:* see [this reference](https://runestone.academy/ns/books/published/pythonds/BasicDS/SimpleBalancedParentheses.html) for inspiration but be careful; that book uses very old/obsolete Python sometimes."
   ]
  },
  {
   "cell_type": "markdown",
   "id": "eb7eac39-f1e6-496b-8652-fd66f604aa47",
   "metadata": {},
   "source": [
    "**Answer as text here**"
   ]
  },
  {
   "cell_type": "markdown",
   "id": "e0d839fe",
   "metadata": {},
   "source": [
    "I did this problem on [LeetCode](https://leetcode.com/problems/valid-parentheses/). "
   ]
  },
  {
   "cell_type": "code",
   "execution_count": 5,
   "id": "b3c46bf5-83e4-4234-afa5-7cd17d122b2a",
   "metadata": {},
   "outputs": [
    {
     "name": "stdout",
     "output_type": "stream",
     "text": [
      "{([)} False\n",
      "{([])} True\n"
     ]
    }
   ],
   "source": [
    "''' Answer as code here '''\n",
    "class BalancedParentheses:\n",
    "    def is_balance(self, s: str) -> bool:\n",
    "        if len(s) % 2 == 1:\n",
    "            return False\n",
    "        \n",
    "        # create a dictionary\n",
    "        pairs = {\n",
    "            \")\": \"(\",\n",
    "            \"]\": \"[\",\n",
    "            \"}\": \"{\",\n",
    "        }\n",
    "        \n",
    "        stack = list()\n",
    "        for item in s:\n",
    "            if item in pairs:\n",
    "                if not stack or stack[-1] != pairs[item]:\n",
    "                    return False\n",
    "                stack.pop()\n",
    "            else:\n",
    "                stack.append(item) # push\n",
    "        \n",
    "        return not stack\n",
    "    \n",
    "s = \"{([)}\"\n",
    "print(s, BalancedParentheses().is_balance(s))\n",
    "s = \"{([])}\"\n",
    "print(s, BalancedParentheses().is_balance(s))\n"
   ]
  },
  {
   "cell_type": "markdown",
   "id": "4362e844-e9cb-4286-842d-1ec032a3cd2a",
   "metadata": {},
   "source": [
    "## Question: Implementing a Simple Printing Queue\n",
    "\n",
    "To gain a bit of experience with queues, implement and simulate a printing queue [as described here](https://runestone.academy/ns/books/published/pythonds/BasicDS/SimulationPrintingTasks.html). However, you don't need to follow what is written there exactly and we encourage you to **keep things simple** (remember queueing theory is a big topic)!\n",
    "\n",
    "1. Create a queue of print tasks. Each task will be given a timestamp upon its arrival. The queue is empty to start.\n",
    "2. Write a function for generating print tasks.\n",
    "3. Write a function for printer behaviour (how long it takes to print pages and add a bit of randomness to it)\n",
    "4. Simulate and print the behaviour of the system (as in the example).\n",
    "5. What happens when the printer is slow/fast? What happens if there are too many tasks generated in a short interval of time? Very briefly discuss.\n"
   ]
  },
  {
   "cell_type": "markdown",
   "id": "623ed892-0ab4-42a3-a873-d26abe9675da",
   "metadata": {},
   "source": [
    "**Answer as text here**"
   ]
  },
  {
   "cell_type": "code",
   "execution_count": null,
   "id": "f474c69f-ef80-4d37-9786-18075c8361d4",
   "metadata": {
    "scrolled": true
   },
   "outputs": [
    {
     "name": "stdout",
     "output_type": "stream",
     "text": [
      "Fri Mar 28 13:34:42 2025\n"
     ]
    }
   ],
   "source": [
    "''' Answer as code here '''\n",
    "import time\n",
    "import random\n",
    "\n",
    "print(time.asctime(time.localtime(time.time())))\n",
    "class Queue:\n",
    "    def __init__(self):\n",
    "        self.items = list()\n",
    "\n",
    "    def is_empty(self) -> bool:\n",
    "        return self.items == []\n",
    "    \n",
    "    def append_queue(self, item):\n",
    "        self.items.append(item)\n",
    "\n",
    "    def pop_queue(self):\n",
    "        if self.is_empty():\n",
    "            return None\n",
    "        return self.items.pop(0)\n",
    "    \n",
    "    def size(self):\n",
    "        return len(self.items)\n",
    "    \n",
    "class Printer(Queue):\n",
    "    def __init__(self):\n",
    "        super().__init__()\n",
    "\n",
    "class Task:\n",
    "    def __init__(self, t):\n",
    "        self.timestamp = t\n",
    "        self.pages = random.randrange(1, 21)\n",
    "\n",
    "    def getStamp(self):\n",
    "        return self.timestamp\n",
    "    \n",
    "    def getPages(self):\n",
    "        return self.pages\n",
    "    \n",
    "    "
   ]
  },
  {
   "cell_type": "markdown",
   "metadata": {},
   "source": [
    "It's like when we go to the supermarket and wait in line, if the "
   ]
  },
  {
   "attachments": {},
   "cell_type": "markdown",
   "id": "a906c6d1-7ace-47d8-9799-53b3b08b6262",
   "metadata": {},
   "source": [
    "## Vectors and Matrices\n",
    "\n",
    "Vectors and matrices are mathematical data types that play a crucial role in modern engineering and machine learning. [Numpy](https://numpy.org) supplements Python nicely in linear algebra. It has many [capabilities comparable to Matlab](https://numpy.org/devdocs/user/numpy-for-matlab-users.html) that you know well. \n"
   ]
  },
  {
   "cell_type": "markdown",
   "id": "daaf11ff-21a8-4e66-b107-dcfc22cbd95b",
   "metadata": {},
   "source": [
    "## Question: Linear Algebra with NumPy\n",
    "\n",
    "This is a quick exercise to refresh [linear algebra skills using NumPy](https://www.kdnuggets.com/numpy-for-linear-algebra-applications).\n",
    "\n",
    "1. [Define](https://numpy.org/devdocs/user/absolute_beginners.html#creating-matrices) a $3 \\times 3$ matrix $A$.\n",
    "2. Extract a row and column vector from $A$ using slicing.\n",
    "3. Multiply $A$ with a 3-dimensional vector from left and right.\n",
    "4. Find the inverse, transpose, trace, rank, condition number, and determinant of $A$.\n",
    "5. Find various norms of $A$.\n",
    "6. Find the eigenvalues and vectors of $A$.\n",
    "7. Define a 3-dimensional vector $b$ and solve $A x =b$ for $x$.\n"
   ]
  },
  {
   "cell_type": "markdown",
   "id": "fea3b48e-2ecc-44ea-bd51-a58574ebbafd",
   "metadata": {},
   "source": [
    "**Answer as text here**"
   ]
  },
  {
   "cell_type": "code",
   "execution_count": 8,
   "id": "a1af7e2b-35fe-4a66-9564-927b169cf78c",
   "metadata": {},
   "outputs": [
    {
     "name": "stdout",
     "output_type": "stream",
     "text": [
      "A =  [[0 1 2]\n",
      " [3 4 5]\n",
      " [6 7 8]]\n",
      "first column [0 3 6]\n",
      "last row [6 7 8]\n",
      "Assume B =  [1 2 3]\n",
      "A dot B is  [ 8 26 44]\n",
      "rank is  3\n",
      "inverse is  [[-0.33333333 -1.66666667  1.        ]\n",
      " [-1.          4.         -2.        ]\n",
      " [ 1.         -2.          1.        ]]\n",
      "transpose  [[0 3 6]\n",
      " [1 4 7]\n",
      " [2 5 9]]\n",
      "trace  13\n",
      "condition number  81.28944594183051\n",
      "determinate  -2.9999999999999996\n",
      "norm 1  16.0\n",
      "norm 2 14.823462019498656\n",
      "norm inf 22.0\n",
      "egenvalues  [13.98568601 -1.16915599  0.18346998]\n",
      "vectors  [[-0.15773187 -0.86845397  0.31819752]\n",
      " [-0.47960254  0.02508902 -0.83594129]\n",
      " [-0.86319295  0.49513457  0.44716049]]\n",
      "solve the function  [-0.66666667  1.         -0.        ]\n"
     ]
    }
   ],
   "source": [
    "''' Answer as code here '''\n",
    "import numpy as np\n",
    "\n",
    "# define a 3*3 Matrix A\n",
    "A = np.arange(9).reshape([3, 3])\n",
    "print(\"A = \", A)\n",
    "\n",
    "# Extract a row and column\n",
    "print(\"first column\", A[:, 0])\n",
    "print(\"last row\", A[-1, :])\n",
    "\n",
    "# Multipy A with a 3-dimensional vector from left to right\n",
    "B = np.array([1, 2, 3])\n",
    "B = np.transpose(B)\n",
    "print(\"Assume B = \", B)\n",
    "print(\"A dot B is \", np.dot(A, B))\n",
    "\n",
    "# Find the inverse, transpose, trace, rank, condition number, and determinant of A\n",
    "try: \n",
    "    np.linalg.inv(A) \n",
    "except:\n",
    "    A[-1, -1] += 1 # make A full rank (inversable)\n",
    "print(\"rank is \", np.linalg.matrix_rank(A))\n",
    "print(\"inverse is \", np.linalg.inv(A))\n",
    "print(\"transpose \", np.transpose(A))\n",
    "print(\"trace \", np.linalg.trace(A))\n",
    "print(\"condition number \", np.linalg.cond(A))\n",
    "print(\"determinate \", np.linalg.det(A))\n",
    "\n",
    "# Find various norms of A\n",
    "print(\"norm 1 \", np.linalg.norm(A, ord=1))\n",
    "print(\"norm 2\", np.linalg.norm(A, ord=2))\n",
    "print(\"norm inf\", np.linalg.norm(A, ord=np.inf))\n",
    "\n",
    "# Find the eigenvalues and vectors of A\n",
    "eigenvalues, eigenvectors = np.linalg.eig(A)\n",
    "print(\"egenvalues \", eigenvalues)\n",
    "print(\"vectors \", eigenvectors)\n",
    "\n",
    "# Define a 3-dimensional vector b and solve A x =b for x.\n",
    "b = B\n",
    "print(\"solve the function \", np.linalg.solve(A, b))"
   ]
  },
  {
   "cell_type": "markdown",
   "metadata": {},
   "source": [
    "## Graphs and Graph Theory\n",
    "\n",
    "<img src=\"./img/digraph.png\" alt=\"Example directed graph\" style=\"width:300px;margin: auto; background:white\"/>\n",
    "\n",
    "**Graph** data type implements the mathematical definition of a graph from the field of graph theory in mathematics! A basic definition of a graph is the tuple $G=(V,E)$, where $V$ is the set of vertices and $E$ is a set of edges. Each edge is a tuple $(v, w)$ where $v, w \\in V$ are vertices.\n",
    "\n",
    "[NetworkX](https://networkx.org) is a powerful and widely used library in Python for the study and manipulation of graphs and networks. Have a quick look at its [tutorial](https://networkx.org/documentation/stable/tutorial.html) to get an idea of its capabilities. It is possible to write your own graph functions as shown [here](https://python-course.eu/applications-python/graphs-python.php) or [here](https://runestone.academy/ns/books/published/pythonds/Graphs/VocabularyandDefinitions.html), but this is often unnecessary.\n",
    "\n",
    "Let's create the graph shown above as an **undirected** graph (no arrows on edges). There are multiple ways of doing this."
   ]
  },
  {
   "cell_type": "code",
   "execution_count": 9,
   "id": "cdd8389b-4e8f-4e0f-a990-a9d1b1fe1f4c",
   "metadata": {},
   "outputs": [
    {
     "data": {
      "text/plain": [
       "NodeView((0, 1, 2, 3, 4, 5))"
      ]
     },
     "execution_count": 9,
     "metadata": {},
     "output_type": "execute_result"
    }
   ],
   "source": [
    "import networkx as nx\n",
    "# G = nx.Graph([(0,1),(0,5),(1,2),(2,3),(3,4),(3,5),(4,0),(4,5),(5,2),(5,4)])    # from edgelist\n",
    "G = nx.Graph({0: [1,5], 1: [0, 2], 2: [1, 3, 5], 3: [2,4,5], 4: [0,3,5], 5: [0,2,3,4]})  # from dictionary\n",
    "G.nodes()"
   ]
  },
  {
   "cell_type": "code",
   "execution_count": 10,
   "id": "269ef8cd-60db-46fc-9e05-2a805b390581",
   "metadata": {},
   "outputs": [
    {
     "data": {
      "text/plain": [
       "EdgeView([(0, 1), (0, 5), (0, 4), (1, 2), (2, 3), (2, 5), (3, 4), (3, 5), (4, 5)])"
      ]
     },
     "execution_count": 10,
     "metadata": {},
     "output_type": "execute_result"
    }
   ],
   "source": [
    "G.edges()"
   ]
  },
  {
   "cell_type": "code",
   "execution_count": 11,
   "id": "38eb515f-d94c-4fec-8480-a440cbe71e96",
   "metadata": {},
   "outputs": [
    {
     "data": {
      "text/plain": [
       "array([[0, 1, 0, 0, 1, 1],\n",
       "       [1, 0, 1, 0, 0, 0],\n",
       "       [0, 1, 0, 1, 0, 1],\n",
       "       [0, 0, 1, 0, 1, 1],\n",
       "       [1, 0, 0, 1, 0, 1],\n",
       "       [1, 0, 1, 1, 1, 0]])"
      ]
     },
     "execution_count": 11,
     "metadata": {},
     "output_type": "execute_result"
    }
   ],
   "source": [
    "adj_mat = nx.adjacency_matrix(G).toarray()  # the adjacency matrix showing connections (ordered by nodelist)\n",
    "adj_mat"
   ]
  },
  {
   "cell_type": "code",
   "execution_count": 12,
   "id": "ecf0acf5-5491-4a97-b941-c338d3855c42",
   "metadata": {},
   "outputs": [],
   "source": [
    "# We could have created the graph directly from a adjacency matrix\n",
    "G = nx.Graph(adj_mat)"
   ]
  },
  {
   "cell_type": "code",
   "execution_count": 13,
   "id": "b9cf4783-93fb-46fb-9582-dcc948f3fa8c",
   "metadata": {},
   "outputs": [
    {
     "data": {
      "image/png": "[encoded data removed]",
      "text/plain": [
       "<Figure size 640x480 with 1 Axes>"
      ]
     },
     "metadata": {},
     "output_type": "display_data"
    }
   ],
   "source": [
    "nx.draw(G, with_labels=True, font_weight='bold')"
   ]
  },
  {
   "cell_type": "code",
   "execution_count": 14,
   "id": "bdfb287f-af30-4727-9dae-54cc66fcb5b1",
   "metadata": {},
   "outputs": [
    {
     "data": {
      "text/plain": [
       "array([[0, 1, 0, 0, 0, 1],\n",
       "       [0, 0, 1, 0, 0, 0],\n",
       "       [0, 0, 0, 1, 0, 0],\n",
       "       [0, 0, 0, 0, 1, 1],\n",
       "       [1, 0, 0, 0, 0, 0],\n",
       "       [0, 0, 1, 0, 1, 0]])"
      ]
     },
     "execution_count": 14,
     "metadata": {},
     "output_type": "execute_result"
    }
   ],
   "source": [
    "# let's create a directed version of the graph exactly as shown in image\n",
    "H = nx.DiGraph({0: [1,5], 1: [2], 2: [3], 3: [4,5], 4: [0], 5: [2,4]})  # from dictionary\n",
    "nx.adjacency_matrix(H).toarray()"
   ]
  },
  {
   "cell_type": "code",
   "execution_count": 15,
   "id": "956b358d-c8c4-440d-a828-8c6f51dbd6ed",
   "metadata": {},
   "outputs": [
    {
     "data": {
      "image/png": "[encoded data removed]",
      "text/plain": [
       "<Figure size 640x480 with 1 Axes>"
      ]
     },
     "metadata": {},
     "output_type": "display_data"
    }
   ],
   "source": [
    "nx.draw(H, with_labels=True, font_weight='bold')"
   ]
  },
  {
   "cell_type": "markdown",
   "id": "4b3ec757-d8a6-4924-a274-c769e4ccef34",
   "metadata": {},
   "source": [
    "## Question: Simple Graph Analysis using NetworkX\n",
    "\n",
    "Define a new small-sized (directed or undirected) graph.\n",
    "\n",
    "1. Find the [degrees of the nodes.](https://networkx.org/documentation/stable/reference/generated/networkx.classes.function.degree.html)\n",
    "2. Find the [Laplacian matrix of the graph.](https://networkx.org/documentation/stable/reference/generated/networkx.linalg.laplacianmatrix.laplacian_matrix.html)\n",
    "3. Check if it is [directed or not.](https://networkx.org/documentation/stable/reference/generated/networkx.classes.function.is_directed.html)\n",
    "4. Find the [minimum spanning tree of the graph.](https://networkx.org/documentation/stable/reference/algorithms/generated/networkx.algorithms.tree.mst.minimum_spanning_tree.html)\n",
    "5. Find the [shortest path between two nodes.](https://networkx.org/documentation/stable/reference/algorithms/generated/networkx.algorithms.shortest_paths.generic.shortest_path.html)"
   ]
  },
  {
   "cell_type": "markdown",
   "id": "abe4ca96-58f7-43df-bd1c-9ec7e23c05b2",
   "metadata": {},
   "source": [
    "**Answer as text here**"
   ]
  },
  {
   "cell_type": "code",
   "execution_count": null,
   "id": "d70fd666-fc00-4855-969f-7e869b8aac54",
   "metadata": {},
   "outputs": [],
   "source": [
    "''' Answer as code here '''"
   ]
  },
  {
   "cell_type": "markdown",
   "id": "4b142b64-bb3f-4164-9d97-6ddf8aa26621",
   "metadata": {},
   "source": [
    "## Tree Data Type\n",
    "\n",
    "A [**Tree**](https://en.wikipedia.org/wiki/Tree_(abstract_data_type)) is a special case of a graph but is important in its own right and widely used. Each node in the tree can be connected to many children (depending on the type of tree) but must be connected to exactly one parent. The root (top-most) node of the tree has no parent by definition. Thus, there are no cycles or \"loops\" in trees and each child can be treated like the root node of its own subtree. Due to these properties, trees are relevant to [recursion](https://www.geeksforgeeks.org/recursion-on-trees-in-python/) algorithms and vice versa.  \n",
    "\n",
    "There is no built-in Tree library in Python but it is not difficult to [create one](https://www.w3schools.com/dsa/dsa_theory_trees.php). However, to save time, we introduce the [anytree library](https://anytree.readthedocs.io/en/latest/index.html) which provides a simple, lightweight, and extensible Tree data structure.\n"
   ]
  },
  {
   "cell_type": "code",
   "execution_count": null,
   "id": "7cd96139-95fc-4d70-a4a4-a7a6623000b6",
   "metadata": {},
   "outputs": [],
   "source": [
    "from anytree import Node, RenderTree\n",
    "udo = Node(\"Udo\")\n",
    "marc = Node(\"Marc\", parent=udo)\n",
    "lian = Node(\"Lian\", parent=marc)\n",
    "dan = Node(\"Dan\", parent=udo)\n",
    "jet = Node(\"Jet\", parent=dan)\n",
    "\n",
    "print(RenderTree(udo))"
   ]
  },
  {
   "cell_type": "code",
   "execution_count": null,
   "id": "7e8b243b-d098-4489-bd81-fc361d2b98d8",
   "metadata": {},
   "outputs": [],
   "source": [
    "marc.new_property = \"awesome\"\n",
    "print(RenderTree(marc))"
   ]
  },
  {
   "attachments": {},
   "cell_type": "markdown",
   "id": "6ec4ef84-b8ce-4f03-ae45-ff284e99c5fe",
   "metadata": {},
   "source": [
    "# Algorithms\n",
    "\n",
    "Algorithms are the heart of computing and behind every reasonable computer program. As a simple definition: \"An algorithm is a procedure to accomplish a speciﬁc task by taking inputs and transforming them into the desired output.\" Likewise simplified, *engineering* is about the application of scientific principles to design or build desired things. There is a close connection between algorithms, computing, and engineering, especially in the 21st century. *(note that, it is not that simple. There are multiple definitions of engineering and computer scientists still debate [what an algorithm is!](https://cacm.acm.org/opinion/what-is-an-algorithm/))*\n",
    "\n"
   ]
  },
  {
   "cell_type": "markdown",
   "id": "8bc93dad-982e-4c8f-b97f-20ee172d7113",
   "metadata": {},
   "source": [
    "## Recursion\n",
    "\n",
    "We will start with one of the most common techniques used in designing algorithms: **recursion**. Recursive algorithms adopt a **reduction** or **divide-and-conquer** approach. Whatever the name used, the underlying principle is the same: break down a given (difficult) problem into smaller, more easily solved pieces. The idea is basically \"simplify and delegate\". Reducing one problem $X$ to another problem $Y$ means writing an algorithm for $X$ that uses an algorithm for $Y$ as a (black box) subroutine. A nice informal way of describing recursion (to solve a problem) is:\n",
    "* If the given instance of the problem can be solved directly, solve it directly.\n",
    "* Otherwise, reduce it to one or more simpler instances of the same problem.\n",
    "Note that, this approach is also closely related to induction in mathematics."
   ]
  },
  {
   "cell_type": "markdown",
   "id": "a984948a-58c5-4fb6-a88d-f3e5b63f3e94",
   "metadata": {},
   "source": [
    "## Example: Binary Search\n",
    "\n",
    "A **Binary Search Algorithm** is a searching algorithm (to find a number $x$ in a **sorted** array $Y=[y_0,y_1,\\ldots,y_N]$), which repeatedly divides the search interval in half until it finds the target value or the interval is empty. This is a nice simple problem and algorithm for demonstrating the basic principles of recursion and divide-and-conquer approach.\n"
   ]
  },
  {
   "cell_type": "code",
   "execution_count": null,
   "id": "f224e9eb-4cd1-477c-a987-9fd6c98805a7",
   "metadata": {},
   "outputs": [],
   "source": [
    "# It returns location of x in given array arr\n",
    "def binarySearch(arr, low, high, x):\n",
    "\n",
    "    while low <= high:\n",
    "\n",
    "        mid = low + (high - low) // 2\n",
    "\n",
    "        # Check if x is present at mid\n",
    "        if arr[mid] == x:\n",
    "            return mid\n",
    "\n",
    "        # If x is greater, ignore left half\n",
    "        elif arr[mid] < x:\n",
    "            low = mid + 1\n",
    "\n",
    "        # If x is smaller, ignore right half\n",
    "        else:\n",
    "            high = mid - 1\n",
    "\n",
    "    # If we reach here, then the element was not present\n",
    "    return False"
   ]
  },
  {
   "cell_type": "code",
   "execution_count": null,
   "id": "333769fa-743d-4495-94b0-50e0bbe436c7",
   "metadata": {},
   "outputs": [],
   "source": [
    "np.random.seed(126548451)\n",
    "Y = np.random.randint(0,100, size=10) # random array of integers in [0,30]\n",
    "Y = np.sort(np.unique(Y))             # remove duplicates and sort\n",
    "#print(Y)                             # search domain\n",
    "\n",
    "x = 4  # searching for x in Y\n",
    "result = binarySearch(Y, 0, len(Y)-1, x)\n",
    "if result:\n",
    "    print(\"Element \", x,\" is present at index\", result,\" of the given array\", Y)\n",
    "else:\n",
    "    print(\"Element \", x,\" is not present in the given array \", Y)"
   ]
  },
  {
   "cell_type": "markdown",
   "id": "f446e20f-cca8-45db-a199-1cbff3839ace",
   "metadata": {},
   "source": [
    "As an **exercise**, you can try different random arrays to explore how this algorithm works."
   ]
  },
  {
   "cell_type": "markdown",
   "id": "dcb1cb1c-83ba-41f1-91d2-f124689ebe48",
   "metadata": {},
   "source": [
    "## Example: Fibonacci Numbers\n",
    "\n",
    "The **[Fibonacci sequence](https://en.wikipedia.org/wiki/Fibonacci_sequence)** is a sequence in which each number is the sum of the two preceding ones. It is historically one of the most famous sequences due to its long history and recursive nature. \n",
    "\n",
    "The definition is simple: $F_0=0$, $F_1=1$, and for $n>1$, $F_n=F_{n-1}+F_{n-2}$, which yields $[0, 1, 1, 2, 3, 5, 8, 13, 21, 34, 55, 89, 144, \\ldots]$. The code below is from this [nice tutorial.](https://realpython.com/fibonacci-sequence-python/)"
   ]
  },
  {
   "cell_type": "code",
   "execution_count": null,
   "id": "6ba370c4-4819-4d8d-b9e7-2061abb80a78",
   "metadata": {},
   "outputs": [],
   "source": [
    "# basic version without memoisation\n",
    "def fibonacci_of(n):\n",
    "    if n in {0, 1}:  # Base case\n",
    "        return n\n",
    "    return fibonacci_of(n - 1) + fibonacci_of(n - 2)  # Recursive case"
   ]
  },
  {
   "cell_type": "code",
   "execution_count": null,
   "id": "917a2ef9-8248-4718-8fb8-df71e32f6b21",
   "metadata": {},
   "outputs": [],
   "source": [
    "[fibonacci_of(n) for n in range(15)]"
   ]
  },
  {
   "cell_type": "markdown",
   "id": "78a62288-0107-4a34-b5cc-00e722d02638",
   "metadata": {},
   "source": [
    "## Example: Tower of Hanoi\n",
    "\n",
    "\n",
    "<img src=\"./img/Tower_of_Hanoi.jpg\" alt=\"Tower of Hanoi wooden game set\" style=\"width:300px;margin: auto\"/>\n",
    "\n",
    "[Tower of Hanoi is a famous puzzle](https://en.wikipedia.org/wiki/Tower_of_Hanoi) that has been used to teach recursion to students for a long long time. To be honest, the recursive solution looks very much like magic, probably because it may be counter-intuitive to some. \n",
    "\n",
    "There are many solutions online such as [this](https://runestone.academy/ns/books/published/pythonds/Recursion/TowerofHanoi.html), [another one](https://scipython.com/book/chapter-2-the-core-python-language-i/examples/the-tower-of-hanoi/) or [yet another one](https://www.geeksforgeeks.org/python-program-for-tower-of-hanoi/). Here is a solution that keeps track of the state of the system."
   ]
  },
  {
   "cell_type": "code",
   "execution_count": null,
   "id": "05b80d60-9150-409c-8a96-ed91c67e8345",
   "metadata": {},
   "outputs": [],
   "source": [
    "# Recursive Python function to solve the Tower of Hanoi\n",
    "\n",
    "# System state definition\n",
    "# Rods are: A left, B middle, C right. A is source, C is destination. Smaller disks have a smaller number\n",
    "state = {'A': [] , 'B': [], 'C' : []}\n",
    "\n",
    "# Recursive DP algorithm\n",
    "def TowerOfHanoi(n , source, destination, auxiliary):\n",
    "    ## Trivial case\n",
    "    if n==1:\n",
    "        # update state\n",
    "        disk = state[source].pop()\n",
    "        state[destination].append(disk)\n",
    "        print (\"Move disk 1 from source\",source,\"to destination\",destination, state)\n",
    "        return\n",
    "    ## STEP 1 of Algorithm\n",
    "    TowerOfHanoi(n-1, source, auxiliary, destination) \n",
    "    ## STEP 2 of Algorithm\n",
    "    # update state\n",
    "    disk = state[source].pop()\n",
    "    state[destination].append(disk)\n",
    "    print (\"Move disk\",n,\"from source\",source,\"to destination\",destination, state)\n",
    "    ## STEP 3 of Algorithm\n",
    "    TowerOfHanoi(n-1, auxiliary, destination, source)\n",
    "        "
   ]
  },
  {
   "cell_type": "code",
   "execution_count": null,
   "id": "379bbb6e-66f9-4016-9cf6-df1eb7631c2e",
   "metadata": {},
   "outputs": [],
   "source": [
    "# Simulation\n",
    "n = 3  # number of disks\n",
    "\n",
    "# initial state setup\n",
    "state = {'A': list(range(n,0,-1)), 'B': [], 'C' : []} # all disks in A, small disks have smaller numbers\n",
    "print(\"Initial state of the tower \",state)\n",
    "\n",
    "# solution\n",
    "TowerOfHanoi(n,'A','C','B') "
   ]
  },
  {
   "cell_type": "markdown",
   "id": "b7ad0b75-f99a-4786-a383-257fd728ec0a",
   "metadata": {},
   "source": [
    "### Solution Analysis\n",
    "It is like magic, isn't it? Try starting from $n=1$, and try increasing numbers of $n$. However, this may not be the best way to understand this. In fact, according to Prof Jeff Erickson (author of Algorithms book), this is not advised:\n",
    ">It may be tempting to think about how all those smaller disks move around or more generally, what happens when the recursion is unrolled — but really, don’t do it. For most recursive algorithms, unrolling the recursion is neither necessary nor helpful. Our only task is to reduce the problem instance we’re given to one or more simpler instances or to solve the problem directly if such a reduction is impossible.\n",
    "\n",
    "Maybe a better way to understand the solution algorithm is:\n",
    ">The secret to solving this puzzle is to _think recursively_. Instead of trying to solve the entire puzzle at once, let’s concentrate on moving just the largest disk. We can’t move it at the beginning, because all the other disks are in the way. So ﬁrst we have to move those n-1 smaller disks to the spare peg **(Step 1)**. Once that’s done, we can move the largest disk directly to its destination **(Step 2)**. Finally, to ﬁnish the puzzle, we have to move the n-1 smaller disks from the spare peg to their destination **(Step 3)**. *That’s it! We’re done!* *We’ve successfully reduced the n-disk Tower of Hanoi\n",
    "problem to two instances of the (n-1)-disk Tower of Hanoi problem!*\n",
    "\n",
    "The figure below summarises this line of thinking, followed by the simulation steps in the following. Note how the main steps of the algorithm unroll!\n",
    "\n",
    "<img src=\"./img/tower_hanoi_soln.png\" alt=\"Tower of Hanoi solution steps\" style=\"width:600px;margin: auto\"/>\n",
    "\n",
    "<img src=\"./img/tower_hanoi_soln2.png\" alt=\"Tower of Hanoi solution trace\" style=\"width:600px;margin: auto\"/>"
   ]
  },
  {
   "cell_type": "markdown",
   "id": "d389af00-7c01-473d-a5c7-03209ce12952",
   "metadata": {},
   "source": [
    "### *Optional Reading: why do some people find recursion counter-intuitive?*\n",
    "\n",
    "Anecdotal evidence from (Computer Science) education indicates that students often find the concept of recursive programming difficult. I had serious difficulty understanding dynamic programming myself. Maybe it is very easy for some of you (especially if are used to thinking recursively). \n",
    "\n",
    "Here are a few speculative ideas on why some people may find recursive thinking difficult and unintuitive:\n",
    "* It almost seems like circular reasoning.\n",
    "* When we give instructions to people or computers, we rarely direct them recursively. For example, imperative programming languages (including Python as well as Assembly) are mainly a series of instructions. Moreover, there is no recursion at the CPU level.\n",
    "* When we solve problems we usually solve them step by step, iteratively, rather than recursively. Most recipes/tutorials are iterative (repeat ... until, while ... do).\n",
    "* As the puzzle above shows, it is hard to keep track of how a recursive algorithm changes the system state (or works). Unrolling recursion requires the mental construction of a large tree rather than a simple loop (and is not advised). Maybe because of this recursive algorithms are to interpret intuitively.\n",
    "* It is hard to describe the solution using the system state, which would require unrolling.\n",
    "\n",
    "*What do you think?*"
   ]
  },
  {
   "cell_type": "markdown",
   "id": "3b0ea6e1-c338-41ea-bb5b-d724efb459e2",
   "metadata": {},
   "source": [
    "## Question: Find the Powerset a given Set \n",
    "\n",
    "The [powerset](https://en.wikipedia.org/wiki/Power_set) of a set $S$ is defined as *the set of all subsets of S, including the empty set and S itself.* \n",
    "\n",
    "For a given set (of numbers for convenience), find the powerset using a **recursive** algorithm. There is an iterative solution but that is not what we want here.\n",
    "\n",
    "**Hints:** \n",
    "1. Use list data type as input and in your code.\n",
    "2. The [Wikipedia article](https://en.wikipedia.org/wiki/Power_set) provides the algorithm you need! \n",
    "\n"
   ]
  },
  {
   "cell_type": "code",
   "execution_count": null,
   "id": "bb0ca47d-a271-4ade-90c2-f8cf2ba2f521",
   "metadata": {},
   "outputs": [],
   "source": [
    "np.random.seed(1252334531)\n",
    "Sarr = np.random.randint(0, 100, size=4) # random array of integers in [0,100]\n",
    "Sarr = np.sort(np.unique(Sarr))\n",
    "S = [str(x) for x in Sarr]\n",
    "S"
   ]
  },
  {
   "cell_type": "markdown",
   "id": "fc7162d7-198b-44a9-8f23-8300b0509e37",
   "metadata": {},
   "source": [
    "**Answer as text here**"
   ]
  },
  {
   "cell_type": "code",
   "execution_count": null,
   "id": "026dda0e-736d-4040-a1f6-1531b1d4562d",
   "metadata": {},
   "outputs": [],
   "source": [
    "''' Answer as code here '''"
   ]
  },
  {
   "cell_type": "code",
   "execution_count": null,
   "id": "51ef68b0-0dd5-4da5-abce-64a55678ff47",
   "metadata": {},
   "outputs": [],
   "source": []
  },
  {
   "attachments": {},
   "cell_type": "markdown",
   "id": "28af2b14-c10a-4408-a753-f1be480fbd61",
   "metadata": {},
   "source": [
    "## Sorting\n",
    "\n",
    "[Sorting algorithms](https://en.wikipedia.org/wiki/Sorting_algorithm) provide a nice introduction to divide-and-conquer and recursion approaches, which are fundamental to many other algorithms. Unsurprisingly, almost every introductory algorithm book focuses on them.\n",
    "\n",
    "**Sorting problem:** Take a (finite) sequence of elements as *input* and order them at the *output* according to a rule, e.g. from small to larger.\n",
    "\n",
    "The general divide and conquer algorithm pattern:\n",
    "1. Divide the given instance of the problem into several independent smaller instances of the same problem.\n",
    "2. Conquer by applying the recursive solution to each smaller/simpler instance.\n",
    "3. Combine the solutions for the smaller instances into the ﬁnal solution."
   ]
  },
  {
   "cell_type": "markdown",
   "id": "20b78c6d-f315-42fb-a219-1c025d3d6794",
   "metadata": {},
   "source": [
    "## Question: Mergesort Algorithm\n",
    "\n",
    "Implement the well-known [mergesort algorithm](https://www.w3schools.com/dsa/dsa_algo_mergesort.php). The steps of the algorithm are:\n",
    "\n",
    "> * Divide the unsorted array into two sub-arrays, half the size of the original.\n",
    "> * Continue to divide the sub-arrays as long as the current piece of the array has more than one element.\n",
    "> * Merge two sub-arrays by always putting the lowest value first.\n",
    "> * Keep merging until there are no sub-arrays left.\n"
   ]
  },
  {
   "cell_type": "markdown",
   "id": "bf8c9a9f-438b-4b3c-89b9-07c2c4dab44c",
   "metadata": {},
   "source": [
    "## _Optional Question: Quicksort Algorithm_\n",
    "\n",
    "Implement the well-known [quicksort algorithm](https://www.w3schools.com/dsa/dsa_algo_quicksort.php). The steps of the algorithm are:\n",
    "> * Choose a value in the array to be the pivot element.\n",
    "> * Order the rest of the array so that lower values than the pivot element are on the left, and higher values are on the right.\n",
    "> * Swap the pivot element with the first element of the higher values so that the pivot element lands in between the lower and higher values.\n",
    "> * Do the same operations (recursively) for the sub-arrays on the left and right sides of the pivot element.\n",
    "\n",
    "Refer to Chapter 1 of the Algorithms book for both in addition to numerous online resources."
   ]
  },
  {
   "cell_type": "markdown",
   "id": "a4d533ea-9e63-4dd6-87a5-9c2dcf62280e",
   "metadata": {},
   "source": [
    "**Answer as text here**"
   ]
  },
  {
   "cell_type": "code",
   "execution_count": null,
   "id": "c53c27b4-5ff3-462d-90fb-4f531a875c20",
   "metadata": {},
   "outputs": [],
   "source": [
    "''' Answer as code here '''"
   ]
  },
  {
   "cell_type": "code",
   "execution_count": null,
   "id": "65113b8d-8bf3-4119-824e-2d0ec6b3ba10",
   "metadata": {},
   "outputs": [],
   "source": []
  },
  {
   "attachments": {},
   "cell_type": "markdown",
   "id": "4b7805ee-7184-4312-9c48-5ea8ecb2acd7",
   "metadata": {},
   "source": [
    "## Dynamic Programming \n",
    "\n",
    "Dynamic Programming (DP) is a method for designing algorithms. DP gives us a way to design custom algorithms that systematically search all possibilities (thus guaranteeing correctness) while storing results to avoid recomputing (thus providing eﬃciency). By storing the consequences of all possible decisions and using this information in a systematic way, the total amount of work is minimized. In a nutshell, dynamic programming is recursion without repetition. \n",
    "\n",
    "Dynamic programming eﬃciently implements a recursive algorithm by storing partial results. Hence, DP (via Memoization) essentially trades oﬀ space for time. \n",
    "\n",
    "Once you understand it, DP is probably the easiest algorithm design technique to apply in practice. Until you understand it, DP seems like magic. "
   ]
  },
  {
   "cell_type": "markdown",
   "id": "32b1ac9d-736a-4b46-8128-802a147884b0",
   "metadata": {},
   "source": [
    "## Example: Fibonacci numbers revisited\n",
    "\n",
    "Let's try compute Fibonacci numbers with memoisation to improve efficiency. Then, we look at the iterative version with tabulation."
   ]
  },
  {
   "cell_type": "code",
   "execution_count": null,
   "id": "cda4363a-4c0c-40f6-8526-ed3757553894",
   "metadata": {},
   "outputs": [],
   "source": [
    "# Fibonacci with memoisation\n",
    "cache = {0: 0, 1: 1}   # remember dictionaries are (now) ordered\n",
    "\n",
    "def fibonacci_of_wm(n):\n",
    "    if n in cache:  # Base case\n",
    "        return cache[n]\n",
    "    # Compute and cache the Fibonacci number\n",
    "    cache[n] = fibonacci_of_wm(n - 1) + fibonacci_of_wm(n - 2)  # Recursive case\n",
    "    return cache[n]"
   ]
  },
  {
   "cell_type": "code",
   "execution_count": null,
   "id": "48337236-cbaa-4f5f-a844-1fadfd7cd820",
   "metadata": {},
   "outputs": [],
   "source": [
    "[fibonacci_of_wm(n) for n in range(15)]"
   ]
  },
  {
   "cell_type": "code",
   "execution_count": null,
   "id": "8d6dd0f6-1e34-4845-9e71-7533b51d35b6",
   "metadata": {},
   "outputs": [],
   "source": [
    "print(cache)"
   ]
  },
  {
   "cell_type": "code",
   "execution_count": null,
   "id": "be986327-6d65-413e-a954-5e9838a16b78",
   "metadata": {},
   "outputs": [],
   "source": [
    "# Fibonacci iterative with tabulation version without recursion\n",
    "def fibonacci_of_tab(n):\n",
    "\n",
    "    # Handle the base cases\n",
    "    if n in {0, 1}:\n",
    "        return n\n",
    "\n",
    "    previous, fib_number = 0, 1\n",
    "    for _ in range(2, n + 1):\n",
    "        # Compute the next Fibonacci number, remember the previous one\n",
    "        previous, fib_number = fib_number, previous + fib_number\n",
    "        # note that there are no recursive calls to the function in this version!\n",
    "\n",
    "    return fib_number"
   ]
  },
  {
   "cell_type": "code",
   "execution_count": null,
   "id": "da8332b8-95b6-4656-bb3a-7b4acb410e1b",
   "metadata": {},
   "outputs": [],
   "source": [
    "[fibonacci_of_tab(n) for n in range(15)]"
   ]
  },
  {
   "cell_type": "markdown",
   "id": "d307b431-308b-4576-bb67-14adf79d07cd",
   "metadata": {},
   "source": [
    "## Question: Fast Multiplication\n",
    "\n",
    "It is possible to improve efficiency of multiplication compared to the classical (goes back to antiquity) version, also known as long multiplication, you learned in primary school. You can [read here](https://www.quantamagazine.org/new-breakthrough-brings-matrix-multiplication-closer-to-ideal-20240307/) why speeding up multiplication matters and recent efforts on this. \n",
    "\n",
    "The idea for speeding it up is based on a divide-and-conquer approach as shown in this formula: \n",
    "$$ (10^m a + b)(10^m c + d) = 10^{2m} ac + 10^m (bc + ad) + bd .$$\n",
    "The resulting algorithm (from Chapter 1 in Algoiorthms book) is shown here in pseudo-code:\n",
    "\n",
    "<img src=\"./img/split_multiply.png\" alt=\"Split multiply pseudo code\" style=\"width:350px;margin: auto\"/>\n",
    "\n",
    "1. Implement split multiply in Python using a recursive function.\n",
    "2. An improvement on this is known as [Karatsuba algorithm](https://en.wikipedia.org/wiki/Karatsuba_algorithm), which requires only three multiplications. Read about it from the given link and implement this more efficient version."
   ]
  },
  {
   "cell_type": "markdown",
   "id": "788e1de0-5d82-4a57-bff8-ac25d89b5983",
   "metadata": {},
   "source": [
    "**Answer as text here**"
   ]
  },
  {
   "cell_type": "code",
   "execution_count": null,
   "id": "49e6bc80-de63-418b-bd35-36a2b4246def",
   "metadata": {},
   "outputs": [],
   "source": [
    "''' Answer as code here '''"
   ]
  },
  {
   "cell_type": "code",
   "execution_count": null,
   "id": "9b149908-a6bf-4a29-b368-14f195381d7a",
   "metadata": {},
   "outputs": [],
   "source": []
  },
  {
   "cell_type": "markdown",
   "id": "afb95652-7cfd-4721-93c2-c26f49ade012",
   "metadata": {},
   "source": [
    "## Example: Knapsack Problem\n",
    "\n",
    "<img src=\"./img/Knapsack_Problem.png\" alt=\"Knapsack problem illustration\" style=\"width:250px;margin: auto\"/> \n",
    "\n",
    "The [knapsack problem](https://en.wikipedia.org/wiki/Knapsack_problem) is a well-known canonical problem in combinatorial optimisation formulated as\n",
    "> Given a set of $N$ items, each with a weight $w$ and a value $v$, determine which items to include in the collection (bag) so that the total weight, $\\sum_i w_i x_i$,  is less than or equal to a given limit (bag capacity $W$) and the total value, $\\sum_i v_i x_i$, is as large as possible (maximised).\n",
    "\n",
    "The 0-1 knapsack problem can be formally stated as \n",
    "$$ \\max_x \\sum_{i=1}^N v_i x_i  \\quad \\rm{s.t.} \\quad \\sum_{i=1}^N w_i x_i \\leq W, \\; x_i \\in \\{0, 1\\} \\; \\forall i.$$\n",
    "\n",
    "A [recursive, brute-force solution](https://www.w3schools.com/dsa/dsa_ref_knapsack.php) to the problem is given below. Another implementation is [here](https://www.geeksforgeeks.org/0-1-knapsack-problem-dp-10/).\n",
    "\n",
    "The [brute force algorithm](https://www.w3schools.com/dsa/dsa_ref_knapsack.php) steps are:\n",
    "> 1. Consider each item one at a time.\n",
    "    1. If there is capacity left for the current item, add it by adding its value and reducing the remaining capacity with its weight. Then call the function on itself for the next item.\n",
    "    2. Also, try not adding the current item before calling the function on itself for the next item.\n",
    "> 2. Return the maximum value from the two scenarios above (adding the current item, or not adding it)."
   ]
  },
  {
   "cell_type": "code",
   "execution_count": null,
   "id": "a8c89562-ce4c-44a9-93f8-3608d213c8be",
   "metadata": {},
   "outputs": [],
   "source": [
    "def knapsack_brute_force(capacity, n):\n",
    "    print(f\"knapsack_brute_force({capacity},{n})\")\n",
    "    if n == 0 or capacity == 0:\n",
    "        return 0\n",
    "\n",
    "    elif weights[n-1] > capacity:\n",
    "        return knapsack_brute_force(capacity, n-1)\n",
    "\n",
    "    else:\n",
    "        include_item = values[n-1] + knapsack_brute_force(capacity-weights[n-1], n-1)\n",
    "        exclude_item = knapsack_brute_force(capacity, n-1)\n",
    "        return max(include_item, exclude_item)\n",
    "\n",
    "values = [300, 200, 400, 500]\n",
    "weights = [2, 1, 5, 3]\n",
    "capacity = 10\n",
    "n = len(values)\n",
    "\n",
    "print(\"\\nMaximum value in Knapsack =\", knapsack_brute_force(capacity, n))"
   ]
  },
  {
   "cell_type": "markdown",
   "id": "df774849-f251-4cb6-b6cd-ca97f1424fc4",
   "metadata": {},
   "source": [
    "### Analysis with a tree structure\n",
    "\n",
    "As in the case of Tower of Hanoi, this output tells us almost nothing. It is much easier to [interpret the output](https://www.w3schools.com/dsa/dsa_ref_knapsack.php) if we consider the solution in terms of a tree rather than an iterative loop. After all, this is exactly what the recursive algorithm does! Therefore, we create a tree to store the output of the recursive algorithm."
   ]
  },
  {
   "cell_type": "code",
   "execution_count": null,
   "id": "6a32771c-1e7b-47c6-a8ff-8b9cbc374243",
   "metadata": {},
   "outputs": [],
   "source": [
    "from anytree import Node, RenderTree, Walker\n",
    "\n",
    "# Use a simple tree to store solutions\n",
    "root_node = Node(\"Start\")     # the solution tree\n",
    "root_node.val = 0             # temp variable to store the calculated value\n",
    "root_node.total_val = 0       # the total value of a solution\n",
    "root_node.soln_node = []      # the solution node/branch\n",
    "\n",
    "def knapsack_brute_force(capacity, n, node, verbose):\n",
    "    if verbose:               # write output or not\n",
    "        print(f\"knapsack_brute_force({capacity},{n})\")\n",
    "\n",
    "    # out of items or capacity\n",
    "    if n == 0 or capacity == 0:\n",
    "        return 0\n",
    "\n",
    "    # if weight of item is more than capacity, skip it\n",
    "    elif weights[n-1] > capacity:  # n starts from end of list, then n-1, n-2, until 0\n",
    "        return knapsack_brute_force(capacity, n-1, node, verbose)\n",
    "\n",
    "    # crate two branches one that includes the next item and one that does not\n",
    "    else:\n",
    "        # -------------------------------------------\n",
    "        # create and store new item node in the tree\n",
    "        new_node = Node(str((values[n-1], weights[n-1])), parent = node)\n",
    "        new_node.val = values[n-1] + node.val # cumulative value\n",
    "        # is this the current solution?\n",
    "        if new_node.val > root_node.total_val:  # assuming one solution for simplicity here\n",
    "            root_node.total_val = new_node.val  # if current soln, then store cumulative value\n",
    "            root_node.soln_node = new_node    # store solution\n",
    "        # -------------------------------------------\n",
    "        # Main Algorithm\n",
    "        # branch that includes the item\n",
    "        include_item = values[n-1] + knapsack_brute_force(capacity-weights[n-1], n-1, new_node, verbose)\n",
    "        # branch that does not include the item\n",
    "        exclude_item = knapsack_brute_force(capacity, n-1, node, verbose)\n",
    "        # return the final value\n",
    "        return max(include_item, exclude_item)"
   ]
  },
  {
   "cell_type": "code",
   "execution_count": null,
   "id": "3eeef694-506a-4b59-94a9-f2ea08254a10",
   "metadata": {},
   "outputs": [],
   "source": [
    "# Problem definition \n",
    "values = [300, 200, 400, 500]  # v, item values \n",
    "weights = [2, 1, 5, 3]         # w, item weights  \n",
    "capacity = 10                  # W, bag capacity \n",
    "n = len(values)                # total number of items"
   ]
  },
  {
   "cell_type": "code",
   "execution_count": null,
   "id": "a832ca8a-ef82-4e65-8c9a-570acb2d06f2",
   "metadata": {},
   "outputs": [],
   "source": [
    "print(\"\\nMaximum value in Knapsack =\", knapsack_brute_force(capacity, n, root_node, False))"
   ]
  },
  {
   "cell_type": "code",
   "execution_count": null,
   "id": "1c0c1fa3-6fd5-43f9-a2bc-240bddedca7d",
   "metadata": {},
   "outputs": [],
   "source": [
    "print(RenderTree(root_node))"
   ]
  },
  {
   "cell_type": "code",
   "execution_count": null,
   "id": "494a5d3d-8e2e-46e0-bc47-36d05cc8fc86",
   "metadata": {},
   "outputs": [],
   "source": [
    "print(root_node.soln_node)\n",
    "#print(root_node.soln_node.parent)\n",
    "walk = Walker()\n",
    "walk.walk(root_node,root_node.soln_node)"
   ]
  },
  {
   "cell_type": "markdown",
   "id": "32986f02-7ef6-4882-8f65-d57665f1953b",
   "metadata": {},
   "source": [
    "## Question: Memoization Approach for 0/1 Knapsack Problem\n",
    "\n",
    "Extend the brute force algorithm above by creating either (a) an array *memo* or (b) the given tree, to store previous results. To avoid doing the same calculation more than once, every time you call your function, check first if the result is already stored.\n"
   ]
  },
  {
   "cell_type": "markdown",
   "id": "e5a78b80-3b2e-480b-8501-86b3812ea5da",
   "metadata": {},
   "source": [
    "**Answer as text here**"
   ]
  },
  {
   "cell_type": "code",
   "execution_count": null,
   "id": "3036ca8a-6514-48f9-baf0-a33e990e2a5f",
   "metadata": {},
   "outputs": [],
   "source": [
    "''' Answer as code here '''"
   ]
  },
  {
   "cell_type": "code",
   "execution_count": null,
   "id": "2dd81047-fea2-46da-9a18-9e51f8658abc",
   "metadata": {},
   "outputs": [],
   "source": []
  },
  {
   "cell_type": "code",
   "execution_count": null,
   "id": "bd743ddb-b096-4b17-a880-ef4abbf9a5c6",
   "metadata": {},
   "outputs": [],
   "source": []
  },
  {
   "cell_type": "markdown",
   "id": "1a5f4916-88ef-4bc6-bbf6-34bee924675a",
   "metadata": {},
   "source": [
    "# Workshop Assessment Instructions\n",
    "\n",
    "_You should complete the workshop tasks and answer the questions within the allocated session!_ **Submission deadline is usually the end of the last week of the workshop. Please check Canvas for the exact deadline!**\n",
    "\n",
    "It is **mandatory to follow all of the submission guidelines** given below. _Don't forget the Report submission information on top of this notebook!_\n",
    "\n",
    "1. The completed Jupyter Notebook and its PDF version (you can simply print-preview and then print as PDF from within your browser) should be uploaded to the right place in Canvas. _It is your responsibility to follow the announcements!_ **Late submissions will be penalised (up to 100% of the total mark depending on the delay amount)!**\n",
    "2. Filename should be “ELEN90088 Workshop **W: StudentID1-StudentID2** of session **Day-Time**\", where **W** refers to the workshop number, **StudentID1-StudentID2** are your student numbers, **Day-Time** is your session day and time, e.g. *Tue-14*.\n",
    "3. Answers to questions, simulation results and diagrams should be included in the Jupyter Notebook as text, code, and plots. *If you don't know latex, you can write formulas/text to a paper by hand, scan it and then include it as an image within Markdown cells.*\n",
    "4. Please submit your report as a group.\n",
    "\n",
    "## Workshop Marking \n",
    "\n",
    "* Each workshop has a fixed number of points corresponding to a certain percentage of the total subject mark inclusive individual oral examination. You can find the detailed rubrics on Canvas.\n",
    "* Individual oral quizzes will be scheduled within the next two weeks following the report submission. They will be during workshop hours. Therefore, you must attend the workshops!\n",
    "* The individual oral examination will assess your answers to workshop questions, what you have done in that workshop, and your knowledge of the subject material in association with the workshop.\n",
    " \n",
    "## Additional guidelines for your programs: \n",
    "\n",
    "* Write modular code using functions. \n",
    "* Properly indent your code. But Python forces you to do that anyway ;)\n",
    "* Heavily comment on the code to describe your implementation and to show your understanding. No comments, no credit!\n",
    "* Make the code your own! It is encouraged to find and get inspired by online examples but you should exactly understand, modify as needed, and explain your code via comments. If you resort to blind copy/paste, you will certainly not do well in the individual oral quizzes."
   ]
  },
  {
   "cell_type": "code",
   "execution_count": null,
   "id": "877b1c29-263a-4104-84f2-56e36f1fe4b4",
   "metadata": {},
   "outputs": [],
   "source": []
  }
 ],
 "metadata": {
  "kernelspec": {
   "display_name": "tf",
   "language": "python",
   "name": "python3"
  },
  "language_info": {
   "codemirror_mode": {
    "name": "ipython",
    "version": 3
   },
   "file_extension": ".py",
   "mimetype": "text/x-python",
   "name": "python",
   "nbconvert_exporter": "python",
   "pygments_lexer": "ipython3",
   "version": "3.9.21"
  }
 },
 "nbformat": 4,
 "nbformat_minor": 5
}
